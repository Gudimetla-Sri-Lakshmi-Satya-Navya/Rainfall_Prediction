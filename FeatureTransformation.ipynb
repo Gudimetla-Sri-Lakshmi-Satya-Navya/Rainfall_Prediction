{
 "cells": [
  {
   "cell_type": "code",
   "execution_count": 1,
   "metadata": {},
   "outputs": [],
   "source": [
    "import numpy as np\n",
    "import pandas as pd\n",
    "import matplotlib.pyplot as plt\n",
    "import seaborn as sns\n",
    "import scipy.stats as stats"
   ]
  },
  {
   "cell_type": "code",
   "execution_count": 2,
   "metadata": {},
   "outputs": [
    {
     "data": {
      "text/html": [
       "<div>\n",
       "<style scoped>\n",
       "    .dataframe tbody tr th:only-of-type {\n",
       "        vertical-align: middle;\n",
       "    }\n",
       "\n",
       "    .dataframe tbody tr th {\n",
       "        vertical-align: top;\n",
       "    }\n",
       "\n",
       "    .dataframe thead th {\n",
       "        text-align: right;\n",
       "    }\n",
       "</style>\n",
       "<table border=\"1\" class=\"dataframe\">\n",
       "  <thead>\n",
       "    <tr style=\"text-align: right;\">\n",
       "      <th></th>\n",
       "      <th>Unnamed: 0</th>\n",
       "      <th>Date</th>\n",
       "      <th>Location</th>\n",
       "      <th>MinTemp</th>\n",
       "      <th>MaxTemp</th>\n",
       "      <th>Rainfall</th>\n",
       "      <th>Evaporation</th>\n",
       "      <th>Sunshine</th>\n",
       "      <th>WindGustDir</th>\n",
       "      <th>WindGustSpeed</th>\n",
       "      <th>...</th>\n",
       "      <th>Temp9am</th>\n",
       "      <th>Temp3pm</th>\n",
       "      <th>RainToday</th>\n",
       "      <th>RainTomorrow</th>\n",
       "      <th>MaxTemp_median</th>\n",
       "      <th>MaxTemp_mean</th>\n",
       "      <th>MaxTemp_random</th>\n",
       "      <th>Evaporation_NAN</th>\n",
       "      <th>Cloud9am_frequent</th>\n",
       "      <th>WindGustDirNew_NAN</th>\n",
       "    </tr>\n",
       "  </thead>\n",
       "  <tbody>\n",
       "    <tr>\n",
       "      <th>0</th>\n",
       "      <td>0</td>\n",
       "      <td>2008-12-01</td>\n",
       "      <td>30</td>\n",
       "      <td>13.4</td>\n",
       "      <td>22.9</td>\n",
       "      <td>0.6</td>\n",
       "      <td>NaN</td>\n",
       "      <td>NaN</td>\n",
       "      <td>13</td>\n",
       "      <td>44.0</td>\n",
       "      <td>...</td>\n",
       "      <td>16.9</td>\n",
       "      <td>21.8</td>\n",
       "      <td>No</td>\n",
       "      <td>0</td>\n",
       "      <td>22.9</td>\n",
       "      <td>22.900000</td>\n",
       "      <td>22.9</td>\n",
       "      <td>1</td>\n",
       "      <td>8.0</td>\n",
       "      <td>W</td>\n",
       "    </tr>\n",
       "    <tr>\n",
       "      <th>1</th>\n",
       "      <td>1</td>\n",
       "      <td>2008-12-02</td>\n",
       "      <td>30</td>\n",
       "      <td>7.4</td>\n",
       "      <td>25.1</td>\n",
       "      <td>0.0</td>\n",
       "      <td>NaN</td>\n",
       "      <td>NaN</td>\n",
       "      <td>14</td>\n",
       "      <td>44.0</td>\n",
       "      <td>...</td>\n",
       "      <td>17.2</td>\n",
       "      <td>24.3</td>\n",
       "      <td>No</td>\n",
       "      <td>0</td>\n",
       "      <td>25.1</td>\n",
       "      <td>25.100000</td>\n",
       "      <td>25.1</td>\n",
       "      <td>1</td>\n",
       "      <td>7.0</td>\n",
       "      <td>WNW</td>\n",
       "    </tr>\n",
       "    <tr>\n",
       "      <th>2</th>\n",
       "      <td>2</td>\n",
       "      <td>2008-12-03</td>\n",
       "      <td>30</td>\n",
       "      <td>12.9</td>\n",
       "      <td>25.7</td>\n",
       "      <td>0.0</td>\n",
       "      <td>NaN</td>\n",
       "      <td>NaN</td>\n",
       "      <td>15</td>\n",
       "      <td>46.0</td>\n",
       "      <td>...</td>\n",
       "      <td>21.0</td>\n",
       "      <td>23.2</td>\n",
       "      <td>No</td>\n",
       "      <td>0</td>\n",
       "      <td>25.7</td>\n",
       "      <td>25.700000</td>\n",
       "      <td>25.7</td>\n",
       "      <td>1</td>\n",
       "      <td>7.0</td>\n",
       "      <td>WSW</td>\n",
       "    </tr>\n",
       "    <tr>\n",
       "      <th>3</th>\n",
       "      <td>3</td>\n",
       "      <td>2008-12-04</td>\n",
       "      <td>30</td>\n",
       "      <td>9.2</td>\n",
       "      <td>28.0</td>\n",
       "      <td>0.0</td>\n",
       "      <td>NaN</td>\n",
       "      <td>NaN</td>\n",
       "      <td>4</td>\n",
       "      <td>24.0</td>\n",
       "      <td>...</td>\n",
       "      <td>18.1</td>\n",
       "      <td>26.5</td>\n",
       "      <td>No</td>\n",
       "      <td>0</td>\n",
       "      <td>28.0</td>\n",
       "      <td>28.000000</td>\n",
       "      <td>28.0</td>\n",
       "      <td>1</td>\n",
       "      <td>7.0</td>\n",
       "      <td>NE</td>\n",
       "    </tr>\n",
       "    <tr>\n",
       "      <th>4</th>\n",
       "      <td>4</td>\n",
       "      <td>2008-12-05</td>\n",
       "      <td>30</td>\n",
       "      <td>17.5</td>\n",
       "      <td>32.3</td>\n",
       "      <td>1.0</td>\n",
       "      <td>NaN</td>\n",
       "      <td>NaN</td>\n",
       "      <td>13</td>\n",
       "      <td>41.0</td>\n",
       "      <td>...</td>\n",
       "      <td>17.8</td>\n",
       "      <td>29.7</td>\n",
       "      <td>No</td>\n",
       "      <td>0</td>\n",
       "      <td>32.3</td>\n",
       "      <td>32.300000</td>\n",
       "      <td>32.3</td>\n",
       "      <td>1</td>\n",
       "      <td>7.0</td>\n",
       "      <td>W</td>\n",
       "    </tr>\n",
       "    <tr>\n",
       "      <th>...</th>\n",
       "      <td>...</td>\n",
       "      <td>...</td>\n",
       "      <td>...</td>\n",
       "      <td>...</td>\n",
       "      <td>...</td>\n",
       "      <td>...</td>\n",
       "      <td>...</td>\n",
       "      <td>...</td>\n",
       "      <td>...</td>\n",
       "      <td>...</td>\n",
       "      <td>...</td>\n",
       "      <td>...</td>\n",
       "      <td>...</td>\n",
       "      <td>...</td>\n",
       "      <td>...</td>\n",
       "      <td>...</td>\n",
       "      <td>...</td>\n",
       "      <td>...</td>\n",
       "      <td>...</td>\n",
       "      <td>...</td>\n",
       "      <td>...</td>\n",
       "    </tr>\n",
       "    <tr>\n",
       "      <th>145455</th>\n",
       "      <td>145455</td>\n",
       "      <td>2017-06-21</td>\n",
       "      <td>49</td>\n",
       "      <td>2.8</td>\n",
       "      <td>23.4</td>\n",
       "      <td>0.0</td>\n",
       "      <td>NaN</td>\n",
       "      <td>NaN</td>\n",
       "      <td>0</td>\n",
       "      <td>31.0</td>\n",
       "      <td>...</td>\n",
       "      <td>10.1</td>\n",
       "      <td>22.4</td>\n",
       "      <td>No</td>\n",
       "      <td>0</td>\n",
       "      <td>23.4</td>\n",
       "      <td>23.400000</td>\n",
       "      <td>23.4</td>\n",
       "      <td>1</td>\n",
       "      <td>7.0</td>\n",
       "      <td>E</td>\n",
       "    </tr>\n",
       "    <tr>\n",
       "      <th>145456</th>\n",
       "      <td>145456</td>\n",
       "      <td>2017-06-22</td>\n",
       "      <td>49</td>\n",
       "      <td>3.6</td>\n",
       "      <td>25.3</td>\n",
       "      <td>0.0</td>\n",
       "      <td>NaN</td>\n",
       "      <td>NaN</td>\n",
       "      <td>6</td>\n",
       "      <td>22.0</td>\n",
       "      <td>...</td>\n",
       "      <td>10.9</td>\n",
       "      <td>24.5</td>\n",
       "      <td>No</td>\n",
       "      <td>0</td>\n",
       "      <td>25.3</td>\n",
       "      <td>25.300000</td>\n",
       "      <td>25.3</td>\n",
       "      <td>1</td>\n",
       "      <td>7.0</td>\n",
       "      <td>NNW</td>\n",
       "    </tr>\n",
       "    <tr>\n",
       "      <th>145457</th>\n",
       "      <td>145457</td>\n",
       "      <td>2017-06-23</td>\n",
       "      <td>49</td>\n",
       "      <td>5.4</td>\n",
       "      <td>26.9</td>\n",
       "      <td>0.0</td>\n",
       "      <td>NaN</td>\n",
       "      <td>NaN</td>\n",
       "      <td>3</td>\n",
       "      <td>37.0</td>\n",
       "      <td>...</td>\n",
       "      <td>12.5</td>\n",
       "      <td>26.1</td>\n",
       "      <td>No</td>\n",
       "      <td>0</td>\n",
       "      <td>26.9</td>\n",
       "      <td>26.900000</td>\n",
       "      <td>26.9</td>\n",
       "      <td>1</td>\n",
       "      <td>7.0</td>\n",
       "      <td>N</td>\n",
       "    </tr>\n",
       "    <tr>\n",
       "      <th>145458</th>\n",
       "      <td>145458</td>\n",
       "      <td>2017-06-24</td>\n",
       "      <td>49</td>\n",
       "      <td>7.8</td>\n",
       "      <td>27.0</td>\n",
       "      <td>0.0</td>\n",
       "      <td>NaN</td>\n",
       "      <td>NaN</td>\n",
       "      <td>9</td>\n",
       "      <td>28.0</td>\n",
       "      <td>...</td>\n",
       "      <td>15.1</td>\n",
       "      <td>26.0</td>\n",
       "      <td>No</td>\n",
       "      <td>0</td>\n",
       "      <td>27.0</td>\n",
       "      <td>27.000000</td>\n",
       "      <td>27.0</td>\n",
       "      <td>1</td>\n",
       "      <td>3.0</td>\n",
       "      <td>SE</td>\n",
       "    </tr>\n",
       "    <tr>\n",
       "      <th>145459</th>\n",
       "      <td>145459</td>\n",
       "      <td>2017-06-25</td>\n",
       "      <td>49</td>\n",
       "      <td>14.9</td>\n",
       "      <td>NaN</td>\n",
       "      <td>0.0</td>\n",
       "      <td>NaN</td>\n",
       "      <td>NaN</td>\n",
       "      <td>16</td>\n",
       "      <td>NaN</td>\n",
       "      <td>...</td>\n",
       "      <td>15.0</td>\n",
       "      <td>20.9</td>\n",
       "      <td>No</td>\n",
       "      <td>0</td>\n",
       "      <td>22.6</td>\n",
       "      <td>23.221348</td>\n",
       "      <td>19.2</td>\n",
       "      <td>1</td>\n",
       "      <td>8.0</td>\n",
       "      <td>Missing</td>\n",
       "    </tr>\n",
       "  </tbody>\n",
       "</table>\n",
       "<p>145460 rows × 30 columns</p>\n",
       "</div>"
      ],
      "text/plain": [
       "        Unnamed: 0        Date  Location  MinTemp  MaxTemp  Rainfall  \\\n",
       "0                0  2008-12-01        30     13.4     22.9       0.6   \n",
       "1                1  2008-12-02        30      7.4     25.1       0.0   \n",
       "2                2  2008-12-03        30     12.9     25.7       0.0   \n",
       "3                3  2008-12-04        30      9.2     28.0       0.0   \n",
       "4                4  2008-12-05        30     17.5     32.3       1.0   \n",
       "...            ...         ...       ...      ...      ...       ...   \n",
       "145455      145455  2017-06-21        49      2.8     23.4       0.0   \n",
       "145456      145456  2017-06-22        49      3.6     25.3       0.0   \n",
       "145457      145457  2017-06-23        49      5.4     26.9       0.0   \n",
       "145458      145458  2017-06-24        49      7.8     27.0       0.0   \n",
       "145459      145459  2017-06-25        49     14.9      NaN       0.0   \n",
       "\n",
       "        Evaporation  Sunshine  WindGustDir  WindGustSpeed  ...  Temp9am  \\\n",
       "0               NaN       NaN           13           44.0  ...     16.9   \n",
       "1               NaN       NaN           14           44.0  ...     17.2   \n",
       "2               NaN       NaN           15           46.0  ...     21.0   \n",
       "3               NaN       NaN            4           24.0  ...     18.1   \n",
       "4               NaN       NaN           13           41.0  ...     17.8   \n",
       "...             ...       ...          ...            ...  ...      ...   \n",
       "145455          NaN       NaN            0           31.0  ...     10.1   \n",
       "145456          NaN       NaN            6           22.0  ...     10.9   \n",
       "145457          NaN       NaN            3           37.0  ...     12.5   \n",
       "145458          NaN       NaN            9           28.0  ...     15.1   \n",
       "145459          NaN       NaN           16            NaN  ...     15.0   \n",
       "\n",
       "        Temp3pm  RainToday  RainTomorrow  MaxTemp_median  MaxTemp_mean  \\\n",
       "0          21.8         No             0            22.9     22.900000   \n",
       "1          24.3         No             0            25.1     25.100000   \n",
       "2          23.2         No             0            25.7     25.700000   \n",
       "3          26.5         No             0            28.0     28.000000   \n",
       "4          29.7         No             0            32.3     32.300000   \n",
       "...         ...        ...           ...             ...           ...   \n",
       "145455     22.4         No             0            23.4     23.400000   \n",
       "145456     24.5         No             0            25.3     25.300000   \n",
       "145457     26.1         No             0            26.9     26.900000   \n",
       "145458     26.0         No             0            27.0     27.000000   \n",
       "145459     20.9         No             0            22.6     23.221348   \n",
       "\n",
       "        MaxTemp_random  Evaporation_NAN  Cloud9am_frequent  WindGustDirNew_NAN  \n",
       "0                 22.9                1                8.0                   W  \n",
       "1                 25.1                1                7.0                 WNW  \n",
       "2                 25.7                1                7.0                 WSW  \n",
       "3                 28.0                1                7.0                  NE  \n",
       "4                 32.3                1                7.0                   W  \n",
       "...                ...              ...                ...                 ...  \n",
       "145455            23.4                1                7.0                   E  \n",
       "145456            25.3                1                7.0                 NNW  \n",
       "145457            26.9                1                7.0                   N  \n",
       "145458            27.0                1                3.0                  SE  \n",
       "145459            19.2                1                8.0             Missing  \n",
       "\n",
       "[145460 rows x 30 columns]"
      ]
     },
     "execution_count": 2,
     "metadata": {},
     "output_type": "execute_result"
    }
   ],
   "source": [
    "df =pd.read_csv('processed.csv')\n",
    "df"
   ]
  },
  {
   "cell_type": "code",
   "execution_count": 3,
   "metadata": {},
   "outputs": [
    {
     "data": {
      "text/plain": [
       "Unnamed: 0              int64\n",
       "Date                   object\n",
       "Location                int64\n",
       "MinTemp               float64\n",
       "MaxTemp               float64\n",
       "Rainfall              float64\n",
       "Evaporation           float64\n",
       "Sunshine              float64\n",
       "WindGustDir             int64\n",
       "WindGustSpeed         float64\n",
       "WindDir9am            float64\n",
       "WindDir3pm            float64\n",
       "WindSpeed9am          float64\n",
       "WindSpeed3pm          float64\n",
       "Humidity9am           float64\n",
       "Humidity3pm           float64\n",
       "Pressure9am           float64\n",
       "Pressure3pm           float64\n",
       "Cloud9am              float64\n",
       "Cloud3pm              float64\n",
       "Temp9am               float64\n",
       "Temp3pm               float64\n",
       "RainToday              object\n",
       "RainTomorrow            int64\n",
       "MaxTemp_median        float64\n",
       "MaxTemp_mean          float64\n",
       "MaxTemp_random        float64\n",
       "Evaporation_NAN         int64\n",
       "Cloud9am_frequent     float64\n",
       "WindGustDirNew_NAN     object\n",
       "dtype: object"
      ]
     },
     "execution_count": 3,
     "metadata": {},
     "output_type": "execute_result"
    }
   ],
   "source": [
    "df.dtypes"
   ]
  },
  {
   "cell_type": "code",
   "execution_count": 4,
   "metadata": {},
   "outputs": [],
   "source": [
    "df1 = df[[\"WindGustSpeed\", \"WindDir9am\", \"WindDir3pm\", \"WindSpeed9am\", \n",
    "         \"WindSpeed3pm\"]]"
   ]
  },
  {
   "cell_type": "code",
   "execution_count": 5,
   "metadata": {},
   "outputs": [
    {
     "data": {
      "text/html": [
       "<div>\n",
       "<style scoped>\n",
       "    .dataframe tbody tr th:only-of-type {\n",
       "        vertical-align: middle;\n",
       "    }\n",
       "\n",
       "    .dataframe tbody tr th {\n",
       "        vertical-align: top;\n",
       "    }\n",
       "\n",
       "    .dataframe thead th {\n",
       "        text-align: right;\n",
       "    }\n",
       "</style>\n",
       "<table border=\"1\" class=\"dataframe\">\n",
       "  <thead>\n",
       "    <tr style=\"text-align: right;\">\n",
       "      <th></th>\n",
       "      <th>WindGustSpeed</th>\n",
       "      <th>WindDir9am</th>\n",
       "      <th>WindDir3pm</th>\n",
       "      <th>WindSpeed9am</th>\n",
       "      <th>WindSpeed3pm</th>\n",
       "    </tr>\n",
       "  </thead>\n",
       "  <tbody>\n",
       "    <tr>\n",
       "      <th>0</th>\n",
       "      <td>44.0</td>\n",
       "      <td>0.254995</td>\n",
       "      <td>3.0</td>\n",
       "      <td>20.0</td>\n",
       "      <td>24.0</td>\n",
       "    </tr>\n",
       "    <tr>\n",
       "      <th>1</th>\n",
       "      <td>44.0</td>\n",
       "      <td>0.304511</td>\n",
       "      <td>6.0</td>\n",
       "      <td>4.0</td>\n",
       "      <td>22.0</td>\n",
       "    </tr>\n",
       "    <tr>\n",
       "      <th>2</th>\n",
       "      <td>46.0</td>\n",
       "      <td>0.254995</td>\n",
       "      <td>6.0</td>\n",
       "      <td>19.0</td>\n",
       "      <td>26.0</td>\n",
       "    </tr>\n",
       "    <tr>\n",
       "      <th>3</th>\n",
       "      <td>24.0</td>\n",
       "      <td>0.160547</td>\n",
       "      <td>14.0</td>\n",
       "      <td>11.0</td>\n",
       "      <td>9.0</td>\n",
       "    </tr>\n",
       "    <tr>\n",
       "      <th>4</th>\n",
       "      <td>41.0</td>\n",
       "      <td>0.174196</td>\n",
       "      <td>0.0</td>\n",
       "      <td>7.0</td>\n",
       "      <td>20.0</td>\n",
       "    </tr>\n",
       "    <tr>\n",
       "      <th>...</th>\n",
       "      <td>...</td>\n",
       "      <td>...</td>\n",
       "      <td>...</td>\n",
       "      <td>...</td>\n",
       "      <td>...</td>\n",
       "    </tr>\n",
       "    <tr>\n",
       "      <th>145455</th>\n",
       "      <td>31.0</td>\n",
       "      <td>0.160547</td>\n",
       "      <td>13.0</td>\n",
       "      <td>13.0</td>\n",
       "      <td>11.0</td>\n",
       "    </tr>\n",
       "    <tr>\n",
       "      <th>145456</th>\n",
       "      <td>22.0</td>\n",
       "      <td>0.160547</td>\n",
       "      <td>2.0</td>\n",
       "      <td>13.0</td>\n",
       "      <td>9.0</td>\n",
       "    </tr>\n",
       "    <tr>\n",
       "      <th>145457</th>\n",
       "      <td>37.0</td>\n",
       "      <td>0.160547</td>\n",
       "      <td>3.0</td>\n",
       "      <td>9.0</td>\n",
       "      <td>9.0</td>\n",
       "    </tr>\n",
       "    <tr>\n",
       "      <th>145458</th>\n",
       "      <td>28.0</td>\n",
       "      <td>0.175702</td>\n",
       "      <td>2.0</td>\n",
       "      <td>13.0</td>\n",
       "      <td>7.0</td>\n",
       "    </tr>\n",
       "    <tr>\n",
       "      <th>145459</th>\n",
       "      <td>NaN</td>\n",
       "      <td>0.146527</td>\n",
       "      <td>15.0</td>\n",
       "      <td>17.0</td>\n",
       "      <td>17.0</td>\n",
       "    </tr>\n",
       "  </tbody>\n",
       "</table>\n",
       "<p>145460 rows × 5 columns</p>\n",
       "</div>"
      ],
      "text/plain": [
       "        WindGustSpeed  WindDir9am  WindDir3pm  WindSpeed9am  WindSpeed3pm\n",
       "0                44.0    0.254995         3.0          20.0          24.0\n",
       "1                44.0    0.304511         6.0           4.0          22.0\n",
       "2                46.0    0.254995         6.0          19.0          26.0\n",
       "3                24.0    0.160547        14.0          11.0           9.0\n",
       "4                41.0    0.174196         0.0           7.0          20.0\n",
       "...               ...         ...         ...           ...           ...\n",
       "145455           31.0    0.160547        13.0          13.0          11.0\n",
       "145456           22.0    0.160547         2.0          13.0           9.0\n",
       "145457           37.0    0.160547         3.0           9.0           9.0\n",
       "145458           28.0    0.175702         2.0          13.0           7.0\n",
       "145459            NaN    0.146527        15.0          17.0          17.0\n",
       "\n",
       "[145460 rows x 5 columns]"
      ]
     },
     "execution_count": 5,
     "metadata": {},
     "output_type": "execute_result"
    }
   ],
   "source": [
    "df1"
   ]
  },
  {
   "cell_type": "code",
   "execution_count": 7,
   "metadata": {},
   "outputs": [
    {
     "data": {
      "text/plain": [
       "WindGustSpeed    10263\n",
       "WindDir9am       10566\n",
       "WindDir3pm        4228\n",
       "WindSpeed9am      1767\n",
       "WindSpeed3pm      3062\n",
       "dtype: int64"
      ]
     },
     "execution_count": 7,
     "metadata": {},
     "output_type": "execute_result"
    }
   ],
   "source": [
    "df1.isnull().sum()"
   ]
  },
  {
   "cell_type": "code",
   "execution_count": 8,
   "metadata": {},
   "outputs": [
    {
     "name": "stderr",
     "output_type": "stream",
     "text": [
      "c:\\Users\\navya\\anaconda3\\envs\\rainfall\\lib\\site-packages\\ipykernel_launcher.py:1: SettingWithCopyWarning: \n",
      "A value is trying to be set on a copy of a slice from a DataFrame\n",
      "\n",
      "See the caveats in the documentation: https://pandas.pydata.org/pandas-docs/stable/user_guide/indexing.html#returning-a-view-versus-a-copy\n",
      "  \"\"\"Entry point for launching an IPython kernel.\n"
     ]
    }
   ],
   "source": [
    "df1.dropna(inplace=True)"
   ]
  },
  {
   "cell_type": "code",
   "execution_count": 9,
   "metadata": {},
   "outputs": [
    {
     "data": {
      "text/html": [
       "<div>\n",
       "<style scoped>\n",
       "    .dataframe tbody tr th:only-of-type {\n",
       "        vertical-align: middle;\n",
       "    }\n",
       "\n",
       "    .dataframe tbody tr th {\n",
       "        vertical-align: top;\n",
       "    }\n",
       "\n",
       "    .dataframe thead th {\n",
       "        text-align: right;\n",
       "    }\n",
       "</style>\n",
       "<table border=\"1\" class=\"dataframe\">\n",
       "  <thead>\n",
       "    <tr style=\"text-align: right;\">\n",
       "      <th></th>\n",
       "      <th>WindGustSpeed</th>\n",
       "      <th>WindDir9am</th>\n",
       "      <th>WindDir3pm</th>\n",
       "      <th>WindSpeed9am</th>\n",
       "      <th>WindSpeed3pm</th>\n",
       "    </tr>\n",
       "  </thead>\n",
       "  <tbody>\n",
       "    <tr>\n",
       "      <th>0</th>\n",
       "      <td>44.0</td>\n",
       "      <td>0.254995</td>\n",
       "      <td>3.0</td>\n",
       "      <td>20.0</td>\n",
       "      <td>24.0</td>\n",
       "    </tr>\n",
       "    <tr>\n",
       "      <th>1</th>\n",
       "      <td>44.0</td>\n",
       "      <td>0.304511</td>\n",
       "      <td>6.0</td>\n",
       "      <td>4.0</td>\n",
       "      <td>22.0</td>\n",
       "    </tr>\n",
       "    <tr>\n",
       "      <th>2</th>\n",
       "      <td>46.0</td>\n",
       "      <td>0.254995</td>\n",
       "      <td>6.0</td>\n",
       "      <td>19.0</td>\n",
       "      <td>26.0</td>\n",
       "    </tr>\n",
       "    <tr>\n",
       "      <th>3</th>\n",
       "      <td>24.0</td>\n",
       "      <td>0.160547</td>\n",
       "      <td>14.0</td>\n",
       "      <td>11.0</td>\n",
       "      <td>9.0</td>\n",
       "    </tr>\n",
       "    <tr>\n",
       "      <th>4</th>\n",
       "      <td>41.0</td>\n",
       "      <td>0.174196</td>\n",
       "      <td>0.0</td>\n",
       "      <td>7.0</td>\n",
       "      <td>20.0</td>\n",
       "    </tr>\n",
       "    <tr>\n",
       "      <th>...</th>\n",
       "      <td>...</td>\n",
       "      <td>...</td>\n",
       "      <td>...</td>\n",
       "      <td>...</td>\n",
       "      <td>...</td>\n",
       "    </tr>\n",
       "    <tr>\n",
       "      <th>145454</th>\n",
       "      <td>31.0</td>\n",
       "      <td>0.146527</td>\n",
       "      <td>14.0</td>\n",
       "      <td>15.0</td>\n",
       "      <td>13.0</td>\n",
       "    </tr>\n",
       "    <tr>\n",
       "      <th>145455</th>\n",
       "      <td>31.0</td>\n",
       "      <td>0.160547</td>\n",
       "      <td>13.0</td>\n",
       "      <td>13.0</td>\n",
       "      <td>11.0</td>\n",
       "    </tr>\n",
       "    <tr>\n",
       "      <th>145456</th>\n",
       "      <td>22.0</td>\n",
       "      <td>0.160547</td>\n",
       "      <td>2.0</td>\n",
       "      <td>13.0</td>\n",
       "      <td>9.0</td>\n",
       "    </tr>\n",
       "    <tr>\n",
       "      <th>145457</th>\n",
       "      <td>37.0</td>\n",
       "      <td>0.160547</td>\n",
       "      <td>3.0</td>\n",
       "      <td>9.0</td>\n",
       "      <td>9.0</td>\n",
       "    </tr>\n",
       "    <tr>\n",
       "      <th>145458</th>\n",
       "      <td>28.0</td>\n",
       "      <td>0.175702</td>\n",
       "      <td>2.0</td>\n",
       "      <td>13.0</td>\n",
       "      <td>7.0</td>\n",
       "    </tr>\n",
       "  </tbody>\n",
       "</table>\n",
       "<p>126854 rows × 5 columns</p>\n",
       "</div>"
      ],
      "text/plain": [
       "        WindGustSpeed  WindDir9am  WindDir3pm  WindSpeed9am  WindSpeed3pm\n",
       "0                44.0    0.254995         3.0          20.0          24.0\n",
       "1                44.0    0.304511         6.0           4.0          22.0\n",
       "2                46.0    0.254995         6.0          19.0          26.0\n",
       "3                24.0    0.160547        14.0          11.0           9.0\n",
       "4                41.0    0.174196         0.0           7.0          20.0\n",
       "...               ...         ...         ...           ...           ...\n",
       "145454           31.0    0.146527        14.0          15.0          13.0\n",
       "145455           31.0    0.160547        13.0          13.0          11.0\n",
       "145456           22.0    0.160547         2.0          13.0           9.0\n",
       "145457           37.0    0.160547         3.0           9.0           9.0\n",
       "145458           28.0    0.175702         2.0          13.0           7.0\n",
       "\n",
       "[126854 rows x 5 columns]"
      ]
     },
     "execution_count": 9,
     "metadata": {},
     "output_type": "execute_result"
    }
   ],
   "source": [
    "df1"
   ]
  },
  {
   "cell_type": "code",
   "execution_count": 10,
   "metadata": {},
   "outputs": [],
   "source": [
    "df2 = df1\n",
    "df3 = df1\n",
    "df4 = df1"
   ]
  },
  {
   "cell_type": "code",
   "execution_count": 11,
   "metadata": {},
   "outputs": [],
   "source": [
    "def normalization(df):\n",
    "    from sklearn.preprocessing import MinMaxScaler\n",
    "    scaler = MinMaxScaler()\n",
    "    scaler.fit(df)\n",
    "    return scaler.transform(df)"
   ]
  },
  {
   "cell_type": "code",
   "execution_count": 12,
   "metadata": {},
   "outputs": [],
   "source": [
    "df1 = normalization(df1)"
   ]
  },
  {
   "cell_type": "code",
   "execution_count": 13,
   "metadata": {},
   "outputs": [
    {
     "data": {
      "text/plain": [
       "array([[0.2890625 , 0.69283012, 0.2       , 0.21176471, 0.25882353],\n",
       "       [0.2890625 , 1.        , 0.4       , 0.02352941, 0.23529412],\n",
       "       [0.3046875 , 0.69283012, 0.4       , 0.2       , 0.28235294],\n",
       "       ...,\n",
       "       [0.1171875 , 0.10693602, 0.13333333, 0.12941176, 0.08235294],\n",
       "       [0.234375  , 0.10693602, 0.2       , 0.08235294, 0.08235294],\n",
       "       [0.1640625 , 0.20095042, 0.13333333, 0.12941176, 0.05882353]])"
      ]
     },
     "execution_count": 13,
     "metadata": {},
     "output_type": "execute_result"
    }
   ],
   "source": [
    "df1"
   ]
  },
  {
   "cell_type": "code",
   "execution_count": 14,
   "metadata": {},
   "outputs": [],
   "source": [
    "def standardization(df):\n",
    "    from sklearn.preprocessing import StandardScaler\n",
    "    scaler = StandardScaler()\n",
    "    scaler.fit(df)\n",
    "    return scaler.transform(df)"
   ]
  },
  {
   "cell_type": "code",
   "execution_count": 15,
   "metadata": {},
   "outputs": [],
   "source": [
    "df2 = standardization(df2)"
   ]
  },
  {
   "cell_type": "code",
   "execution_count": 16,
   "metadata": {},
   "outputs": [
    {
     "data": {
      "text/plain": [
       "array([[ 0.24259006,  0.63865843, -1.00156195,  0.59217988,  0.55849038],\n",
       "       [ 0.24259006,  1.5875274 , -0.33909023, -1.32702061,  0.32543116],\n",
       "       [ 0.39167357,  0.63865843, -0.33909023,  0.47222985,  0.7915496 ],\n",
       "       ...,\n",
       "       [-1.39732855, -1.17120887, -1.22238586, -0.24747034, -1.18945374],\n",
       "       [-0.27920222, -1.17120887, -1.00156195, -0.72727046, -1.18945374],\n",
       "       [-0.95007802, -0.88079192, -1.22238586, -0.24747034, -1.42251295]])"
      ]
     },
     "execution_count": 16,
     "metadata": {},
     "output_type": "execute_result"
    }
   ],
   "source": [
    "df2"
   ]
  },
  {
   "cell_type": "code",
   "execution_count": 17,
   "metadata": {},
   "outputs": [],
   "source": [
    "def robustScaler(df):\n",
    "    from sklearn.preprocessing import RobustScaler\n",
    "    scaler = RobustScaler()\n",
    "    scaler.fit(df)\n",
    "    return scaler.transform(df)"
   ]
  },
  {
   "cell_type": "code",
   "execution_count": 18,
   "metadata": {},
   "outputs": [],
   "source": [
    "df3 = robustScaler(df3)"
   ]
  },
  {
   "cell_type": "code",
   "execution_count": 19,
   "metadata": {},
   "outputs": [
    {
     "data": {
      "text/plain": [
       "array([[ 0.29411765,  0.43044833, -0.71428571,  0.63636364,  0.45454545],\n",
       "       [ 0.29411765,  0.98875962, -0.28571429, -0.81818182,  0.27272727],\n",
       "       [ 0.41176471,  0.43044833, -0.28571429,  0.54545455,  0.63636364],\n",
       "       ...,\n",
       "       [-1.        , -0.63447148, -0.85714286,  0.        , -0.90909091],\n",
       "       [-0.11764706, -0.63447148, -0.71428571, -0.36363636, -0.90909091],\n",
       "       [-0.64705882, -0.46359112, -0.85714286,  0.        , -1.09090909]])"
      ]
     },
     "execution_count": 19,
     "metadata": {},
     "output_type": "execute_result"
    }
   ],
   "source": [
    "df3"
   ]
  },
  {
   "cell_type": "code",
   "execution_count": 20,
   "metadata": {},
   "outputs": [],
   "source": [
    "## QQ plot\n",
    "def qqplot(df):\n",
    "    from scipy.stats import probplot\n",
    "    probplot(df, dist=\"norm\", plot=plt)\n",
    "    plt.show()"
   ]
  },
  {
   "cell_type": "code",
   "execution_count": 21,
   "metadata": {},
   "outputs": [
    {
     "data": {
      "image/png": "[encoded data removed]",
      "text/plain": [
       "<Figure size 432x288 with 1 Axes>"
      ]
     },
     "metadata": {
      "needs_background": "light"
     },
     "output_type": "display_data"
    }
   ],
   "source": [
    "qqplot(df4[\"WindGustSpeed\"])"
   ]
  },
  {
   "cell_type": "code",
   "execution_count": 22,
   "metadata": {},
   "outputs": [
    {
     "data": {
      "image/png": "[encoded data removed]",
      "text/plain": [
       "<Figure size 432x288 with 1 Axes>"
      ]
     },
     "metadata": {
      "needs_background": "light"
     },
     "output_type": "display_data"
    }
   ],
   "source": [
    "qqplot(df4[\"WindDir9am\"])"
   ]
  },
  {
   "cell_type": "code",
   "execution_count": 23,
   "metadata": {},
   "outputs": [
    {
     "data": {
      "image/png": "[encoded data removed]",
      "text/plain": [
       "<Figure size 432x288 with 1 Axes>"
      ]
     },
     "metadata": {
      "needs_background": "light"
     },
     "output_type": "display_data"
    }
   ],
   "source": [
    "qqplot(df4[\"WindDir3pm\"])"
   ]
  },
  {
   "cell_type": "code",
   "execution_count": 24,
   "metadata": {},
   "outputs": [
    {
     "data": {
      "image/png": "[encoded data removed]",
      "text/plain": [
       "<Figure size 432x288 with 1 Axes>"
      ]
     },
     "metadata": {
      "needs_background": "light"
     },
     "output_type": "display_data"
    }
   ],
   "source": [
    "qqplot(df4[\"WindSpeed9am\"])"
   ]
  },
  {
   "cell_type": "code",
   "execution_count": 25,
   "metadata": {},
   "outputs": [
    {
     "data": {
      "image/png": "[encoded data removed]",
      "text/plain": [
       "<Figure size 432x288 with 1 Axes>"
      ]
     },
     "metadata": {
      "needs_background": "light"
     },
     "output_type": "display_data"
    }
   ],
   "source": [
    "qqplot(df4[\"WindSpeed3pm\"])"
   ]
  },
  {
   "cell_type": "code",
   "execution_count": 26,
   "metadata": {},
   "outputs": [],
   "source": [
    "# Logarithmic transformation\n",
    "def logTransformation(df, feature):\n",
    "    df[feature] = np.log(df[feature] + 1)\n",
    "    from scipy.stats import probplot\n",
    "    probplot(df[feature], dist=\"norm\", plot=plt)\n",
    "    plt.show()\n",
    "    print(df[feature])"
   ]
  },
  {
   "cell_type": "code",
   "execution_count": 27,
   "metadata": {},
   "outputs": [
    {
     "name": "stderr",
     "output_type": "stream",
     "text": [
      "c:\\Users\\navya\\anaconda3\\envs\\rainfall\\lib\\site-packages\\ipykernel_launcher.py:3: SettingWithCopyWarning: \n",
      "A value is trying to be set on a copy of a slice from a DataFrame.\n",
      "Try using .loc[row_indexer,col_indexer] = value instead\n",
      "\n",
      "See the caveats in the documentation: https://pandas.pydata.org/pandas-docs/stable/user_guide/indexing.html#returning-a-view-versus-a-copy\n",
      "  This is separate from the ipykernel package so we can avoid doing imports until\n"
     ]
    },
    {
     "data": {
      "image/png": "[encoded data removed]",
      "text/plain": [
       "<Figure size 432x288 with 1 Axes>"
      ]
     },
     "metadata": {
      "needs_background": "light"
     },
     "output_type": "display_data"
    },
    {
     "name": "stdout",
     "output_type": "stream",
     "text": [
      "0         3.806662\n",
      "1         3.806662\n",
      "2         3.850148\n",
      "3         3.218876\n",
      "4         3.737670\n",
      "            ...   \n",
      "145454    3.465736\n",
      "145455    3.465736\n",
      "145456    3.135494\n",
      "145457    3.637586\n",
      "145458    3.367296\n",
      "Name: WindGustSpeed, Length: 126854, dtype: float64\n"
     ]
    }
   ],
   "source": [
    "logTransformation(df4, \"WindGustSpeed\")"
   ]
  },
  {
   "cell_type": "code",
   "execution_count": 28,
   "metadata": {},
   "outputs": [],
   "source": [
    "# Exponential transformation\n",
    "def expTransformation(df, feature):\n",
    "    df[feature] = np.exp(df[feature])\n",
    "    from scipy.stats import probplot\n",
    "    probplot(df[feature], dist=\"norm\", plot=plt)\n",
    "    plt.show()\n",
    "    print(df[feature])"
   ]
  },
  {
   "cell_type": "code",
   "execution_count": 29,
   "metadata": {},
   "outputs": [
    {
     "name": "stderr",
     "output_type": "stream",
     "text": [
      "c:\\Users\\navya\\anaconda3\\envs\\rainfall\\lib\\site-packages\\ipykernel_launcher.py:3: SettingWithCopyWarning: \n",
      "A value is trying to be set on a copy of a slice from a DataFrame.\n",
      "Try using .loc[row_indexer,col_indexer] = value instead\n",
      "\n",
      "See the caveats in the documentation: https://pandas.pydata.org/pandas-docs/stable/user_guide/indexing.html#returning-a-view-versus-a-copy\n",
      "  This is separate from the ipykernel package so we can avoid doing imports until\n"
     ]
    },
    {
     "data": {
      "image/png": "[encoded data removed]",
      "text/plain": [
       "<Figure size 432x288 with 1 Axes>"
      ]
     },
     "metadata": {
      "needs_background": "light"
     },
     "output_type": "display_data"
    },
    {
     "name": "stdout",
     "output_type": "stream",
     "text": [
      "0         1.290455\n",
      "1         1.355962\n",
      "2         1.290455\n",
      "3         1.174153\n",
      "4         1.190289\n",
      "            ...   \n",
      "145454    1.157806\n",
      "145455    1.174153\n",
      "145456    1.174153\n",
      "145457    1.174153\n",
      "145458    1.192083\n",
      "Name: WindDir9am, Length: 126854, dtype: float64\n"
     ]
    }
   ],
   "source": [
    "expTransformation(df4, \"WindDir9am\")"
   ]
  },
  {
   "cell_type": "code",
   "execution_count": 30,
   "metadata": {},
   "outputs": [],
   "source": [
    "# Reciprocal transformation\n",
    "def reciprocalTransformation(df, feature):\n",
    "    df[feature] = np.reciprocal(df[feature] + 1)\n",
    "    from scipy.stats import probplot\n",
    "    probplot(df[feature], dist=\"norm\", plot=plt)\n",
    "    plt.show()\n",
    "    print(df[feature])"
   ]
  },
  {
   "cell_type": "code",
   "execution_count": 31,
   "metadata": {},
   "outputs": [
    {
     "name": "stderr",
     "output_type": "stream",
     "text": [
      "c:\\Users\\navya\\anaconda3\\envs\\rainfall\\lib\\site-packages\\ipykernel_launcher.py:3: SettingWithCopyWarning: \n",
      "A value is trying to be set on a copy of a slice from a DataFrame.\n",
      "Try using .loc[row_indexer,col_indexer] = value instead\n",
      "\n",
      "See the caveats in the documentation: https://pandas.pydata.org/pandas-docs/stable/user_guide/indexing.html#returning-a-view-versus-a-copy\n",
      "  This is separate from the ipykernel package so we can avoid doing imports until\n"
     ]
    },
    {
     "data": {
      "image/png": "[encoded data removed]",
      "text/plain": [
       "<Figure size 432x288 with 1 Axes>"
      ]
     },
     "metadata": {
      "needs_background": "light"
     },
     "output_type": "display_data"
    },
    {
     "name": "stdout",
     "output_type": "stream",
     "text": [
      "0         0.250000\n",
      "1         0.142857\n",
      "2         0.142857\n",
      "3         0.066667\n",
      "4         1.000000\n",
      "            ...   \n",
      "145454    0.066667\n",
      "145455    0.071429\n",
      "145456    0.333333\n",
      "145457    0.250000\n",
      "145458    0.333333\n",
      "Name: WindDir3pm, Length: 126854, dtype: float64\n"
     ]
    }
   ],
   "source": [
    "reciprocalTransformation(df4, \"WindDir3pm\")"
   ]
  },
  {
   "cell_type": "code",
   "execution_count": 32,
   "metadata": {},
   "outputs": [],
   "source": [
    "# Sqrt transformation\n",
    "def sqrtTransformation(df, feature):\n",
    "    df[feature] = np.sqrt(df[feature])\n",
    "    from scipy.stats import probplot\n",
    "    probplot(df[feature], dist=\"norm\", plot=plt)\n",
    "    plt.show()\n",
    "    print(df[feature])"
   ]
  },
  {
   "cell_type": "code",
   "execution_count": 33,
   "metadata": {},
   "outputs": [
    {
     "name": "stderr",
     "output_type": "stream",
     "text": [
      "c:\\Users\\navya\\anaconda3\\envs\\rainfall\\lib\\site-packages\\ipykernel_launcher.py:3: SettingWithCopyWarning: \n",
      "A value is trying to be set on a copy of a slice from a DataFrame.\n",
      "Try using .loc[row_indexer,col_indexer] = value instead\n",
      "\n",
      "See the caveats in the documentation: https://pandas.pydata.org/pandas-docs/stable/user_guide/indexing.html#returning-a-view-versus-a-copy\n",
      "  This is separate from the ipykernel package so we can avoid doing imports until\n"
     ]
    },
    {
     "data": {
      "image/png": "[encoded data removed]",
      "text/plain": [
       "<Figure size 432x288 with 1 Axes>"
      ]
     },
     "metadata": {
      "needs_background": "light"
     },
     "output_type": "display_data"
    },
    {
     "name": "stdout",
     "output_type": "stream",
     "text": [
      "0         4.472136\n",
      "1         2.000000\n",
      "2         4.358899\n",
      "3         3.316625\n",
      "4         2.645751\n",
      "            ...   \n",
      "145454    3.872983\n",
      "145455    3.605551\n",
      "145456    3.605551\n",
      "145457    3.000000\n",
      "145458    3.605551\n",
      "Name: WindSpeed9am, Length: 126854, dtype: float64\n"
     ]
    }
   ],
   "source": [
    "sqrtTransformation(df4, \"WindSpeed9am\")"
   ]
  },
  {
   "cell_type": "code",
   "execution_count": 34,
   "metadata": {},
   "outputs": [],
   "source": [
    "# Box-Cox transformation\n",
    "def boxcoxTransformation(df, feature):\n",
    "    from scipy.stats import boxcox\n",
    "    df[feature] = boxcox(df[feature])[0]\n",
    "    from scipy.stats import probplot\n",
    "    probplot(df[feature], dist=\"norm\", plot=plt)\n",
    "    plt.show()\n",
    "    print(df[feature])"
   ]
  },
  {
   "cell_type": "code",
   "execution_count": 35,
   "metadata": {},
   "outputs": [
    {
     "name": "stderr",
     "output_type": "stream",
     "text": [
      "c:\\Users\\navya\\anaconda3\\envs\\rainfall\\lib\\site-packages\\ipykernel_launcher.py:4: SettingWithCopyWarning: \n",
      "A value is trying to be set on a copy of a slice from a DataFrame.\n",
      "Try using .loc[row_indexer,col_indexer] = value instead\n",
      "\n",
      "See the caveats in the documentation: https://pandas.pydata.org/pandas-docs/stable/user_guide/indexing.html#returning-a-view-versus-a-copy\n",
      "  after removing the cwd from sys.path.\n"
     ]
    },
    {
     "data": {
      "image/png": "[encoded data removed]",
      "text/plain": [
       "<Figure size 432x288 with 1 Axes>"
      ]
     },
     "metadata": {
      "needs_background": "light"
     },
     "output_type": "display_data"
    },
    {
     "name": "stdout",
     "output_type": "stream",
     "text": [
      "0         7.792200\n",
      "1         7.375557\n",
      "2         8.191803\n",
      "3         3.998079\n",
      "4         6.939489\n",
      "            ...   \n",
      "145454    5.208110\n",
      "145455    4.630789\n",
      "145456    3.998079\n",
      "145457    3.998079\n",
      "145458    3.290126\n",
      "Name: WindSpeed3pm, Length: 126854, dtype: float64\n"
     ]
    }
   ],
   "source": [
    "boxcoxTransformation(df4, \"WindSpeed3pm\")"
   ]
  }
 ],
 "metadata": {
  "kernelspec": {
   "display_name": "Python 3",
   "language": "python",
   "name": "python3"
  },
  "language_info": {
   "codemirror_mode": {
    "name": "ipython",
    "version": 3
   },
   "file_extension": ".py",
   "mimetype": "text/x-python",
   "name": "python",
   "nbconvert_exporter": "python",
   "pygments_lexer": "ipython3",
   "version": "3.6.13"
  }
 },
 "nbformat": 4,
 "nbformat_minor": 2
}
